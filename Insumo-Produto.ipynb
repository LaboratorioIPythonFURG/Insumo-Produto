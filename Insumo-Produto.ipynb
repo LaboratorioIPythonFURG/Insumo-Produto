{
  "nbformat": 4,
  "nbformat_minor": 0,
  "metadata": {
    "colab": {
      "provenance": []
    },
    "kernelspec": {
      "name": "python3",
      "display_name": "Python 3"
    },
    "language_info": {
      "name": "python"
    }
  },
  "cells": [
    {
      "cell_type": "markdown",
      "source": [
        "# Insumo-Produto\n",
        "_(Fonte: FONTE, André. Input-Output de Leontief: Aplicações da álgebra linear. Lisboa: 2021.)_ \n",
        "\n",
        "No mundo econômico, o modelo insumo-produto é uma forma de representação quantitativa da interdependência entre os setores constituintes de uma economia. Este tipo de análise desenvolvida por Wassily Leontief tem por base álgebra linear, mais propriamente, matrizes e sistemas lineares."
      ],
      "metadata": {
        "id": "zpKmfH4s8YGL"
      }
    },
    {
      "cell_type": "markdown",
      "source": [
        "## Modelagem\n",
        "_(Fonte: THALENBERG, Bruna; PICCHETTI, Pedro. Modelagem matemática da economia e o modelo insumo-produto de Leontief. São Paulo: 2017.)_\n",
        "\n",
        "Antes de modelar a economia escolhida, é necessário colocar algumas premissas e\n",
        "hipóteses. Tendo em vista a abrangência de setores contemplada pelo modelo insumo-produto,\n",
        "adotaremos as seguintes premissas de modo a simplificar o problema, seguindo a\n",
        "recomendação de Chiang e Wainwright (1980):\n",
        "\n",
        "(i) cada indústria produz somente uma mercadoria homogênea;\n",
        "\n",
        "(ii) cada setor utiliza uma razão fixa de insumos para a produção de seu produto;\n",
        "\n",
        "(iii) para todos os setores os retornos de escala são constantes, isto é, a um aumento de k vezes dos insumos está associado um aumento de k vezes no produto.\n",
        "\n",
        "A despeito do irrealismo das suposições, o modelo não perde capacidade analítica, uma vez que, se um setor produz duas mercadorias diversas ou utiliza-se de combinações de fatores diferentes, ele pode ser considerado como duas indústrias.\n",
        "\n",
        "Temos, então, em um caso geral, que o valor do insumo requerido pelos setores\n",
        "produtores para fabricar o equivalente a uma unidade monetária em mercadorias está de acordo com a tabela 1."
      ],
      "metadata": {
        "id": "MXJI4oSU_ANH"
      }
    },
    {
      "cell_type": "markdown",
      "source": [
        "Tabela 1 - Representção dos valores em unidade monetária necessários de insumo para produzir uma unidade monetária de mercadoria.\n",
        "\n",
        "Fornecedor | Setor 1 | Setor 2 | Setor 3 | ... | Setor N |\n",
        "-- | -- | -- | -- | -- | -- |\n",
        "Setor 1 | $a_{11}$ | $a_{12}$ | $a_{13}$ | ... | $a_{1n}$ |\n",
        "Setor 2 | $a_{21}$ | $a_{22}$ | $a_{23}$ | ... | $a_{2n}$ |\n",
        "Setor 1 | $a_{31}$ | $a_{32}$ | $a_{33}$ | ... | $a_{3n}$ |\n",
        ": | : | : | : | ::: | : |\n",
        "Setor N | $a_{n1}$ | $a_{n2}$ | $a_{n3}$ | ... | $a_{nn}$ |\n",
        "\n"
      ],
      "metadata": {
        "id": "bJJUG7pNAy7e"
      }
    },
    {
      "cell_type": "markdown",
      "source": [
        "Note que, para que a produção seja economicamente viável, a soma do custo dos\n",
        "insumos não pode ser maior do que o valor de venda da mercadoria e, portanto, a soma dos elementos em uma coluna deve ser inferior a um. Supondo que o setor 1 fabrique o suficiente para atender os requisitos de insumos das n indústrias e à demanda final do setor aberto, seu nível de produção deve atender à equação:\n",
        "\n",
        "$$\n",
        "x_1 = a_{11}x_1 + a_{12}x_2 + ... + a_{1n}x_n + d_1.\n",
        "$$\n",
        "\n",
        "Onde $d_1$ denota a demanda final e os demais componentes da equação representam\n",
        "a demanda por insumos dos demais setores. Generalizando, os níveis de produtos dos setores de uma economia devem atender a:\n",
        "\n",
        "$$\n",
        "x_n = a_{n1}x_1 + a_{n2}x_2 + ... + a_{nn}x_n + d_n.\n",
        "$$\n",
        "\n",
        "As equações dos n setores resultam em um sistema de equações, apresentado abaixo, que pode ser melhor representado em sua forma matricial.\n",
        "\n",
        "$$\n",
        "(1 - a_{11})x_1 -  a_{12}x_2 - ... - a_{1n}x_n = d_1\\\\\n",
        " - a_{21}x_1 -  (1 - a_{22})x_2 - ... - a_{2n}x_n = d_2\\\\\n",
        " ...\\\\\n",
        " - a_{n1}x_1 -  a_{n2}x_2 - ... - (1 - a_{nn}x_n) = d_n\n",
        "$$\n",
        "\n",
        "A matriz também pode ser escrita como $(I - A)x = d$, onde $x$ é o vetor de variáveis dependentes e $d$ o vetor da demanda final, e $(I - A)$ é chamada Matriz de Leontief.\n",
        "\n"
      ],
      "metadata": {
        "id": "8AonKk6nJ9wh"
      }
    },
    {
      "cell_type": "markdown",
      "source": [
        "## Teoremas\n",
        "_(Fonte: FONTE, André. Input-Output de Leontief: Aplicações da álgebra linear. Lisboa: 2021.)_  \n",
        "\n",
        "### Teorema 1 (economia rentável)\n",
        "\n",
        "Seja $A$ a matriz insumo-produto de uma economia aberta. Caso a soma de cada coluna seja inferior a $1$, a matriz $𝐼−A$ é invertível, as entradas de $(𝐼−A)^{-1}$ são não negativas, e a economia é rentável.\n",
        "\n",
        "### Teorema 2\n",
        "\n",
        "Seja $A$ uma matriz input-output. Caso a matriz $𝐼 – A$ seja invertível, x existe e é único, sendo dado por:\n",
        "\n",
        "$$\n",
        "x = ( I - A )^{-1} . d\n",
        "$$"
      ],
      "metadata": {
        "id": "LUt6AvdsD2RL"
      }
    },
    {
      "cell_type": "markdown",
      "source": [
        "## Problemas\n",
        "\n",
        "### Problema 1 \n",
        "_(Fonte: FONTE, André. Input-Output de Leontief: Aplicações da álgebra linear. Lisboa: 2021.)_ \n",
        "\n",
        "Considere-se o seguinte quadro económico: 3 setores industriais interdependentes ocu-pados da produção de um único tipo de produto. Sejam eles o produto A, o produto B e o pro-duto C, produzidos pelas indústrias A, B e C, respetivamente. Para a produção de cada produto, a respetiva indústria necessita de gastar não só uma certa quantidade dos outros dois produtos, como também parte da sua própria produção. Assim, suponha-se o seguinte cenário:\n",
        "\n",
        "|  | |Insumo | | | \n",
        "| -- | -- | -- | -- | -- | \n",
        "| Produto |  | A | B | C |\n",
        "| A |  | 0.10 | 0.10 | 0.40 |\n",
        "| B |  | 0.40 | 0.20 | 0.10 |\n",
        "| C |  | 0.20 | 0.40 | 0.05 |\n",
        "\n",
        "Estas indústrias estão inseridas num cenário económico aberto, ou seja, estão sujeitas às exigências do mercado e a sua produção é dependente destas. Considere-se que o mercado pretende ser fornecido com  $400$ unidades monetárias do produto $A$, $200$ do produto $B$ e $100$ do produto $C$. Esses valores são representados pelo vetor $𝑑$ (do inglês demand):\n",
        "\n",
        "$$\n",
        "d =\n",
        "\\begin{bmatrix}\n",
        " 400 \\\\ 200 \\\\ 100 \n",
        "\\end{bmatrix}\n",
        "$$"
      ],
      "metadata": {
        "id": "1cSBV7hYGSxR"
      }
    },
    {
      "cell_type": "code",
      "execution_count": 2,
      "metadata": {
        "colab": {
          "base_uri": "https://localhost:8080/"
        },
        "id": "lM_EjenZNn6e",
        "outputId": "fda25cfd-e7c5-4ef9-d0b1-fc241243885f"
      },
      "outputs": [
        {
          "output_type": "stream",
          "name": "stdout",
          "text": [
            "A quantidade de unidade monetária que cada setor deve produzir para atender a demanda de maneira mais eficiente é:\n",
            " A:775.00\n",
            " B:708.33\n",
            " C:566.67\n"
          ]
        }
      ],
      "source": [
        "# importar bibiotecas necessárias\n",
        "import numpy as np\n",
        "from scipy import linalg\n",
        "\n",
        "# definir matriz insumo-produto\n",
        "a = np.array([[0.1,0.1,0.4],[0.4,0.2,0.1],[0.2,0.4,0.05]])\n",
        "\n",
        "# definir vetor de demanda\n",
        "d = np.array([400, 200, 100])\n",
        "\n",
        "# determinar o vetor de variáveis dependentes\n",
        "x = np.linalg.solve(np.identity(3)-a,d)\n",
        "\n",
        "# imprimir resutados\n",
        "print(f\"A quantidade de unidade monetária que cada setor deve produzir para atender a demanda de maneira mais eficiente é:\\n A:{x[0]:.2f}\\n B:{x[1]:.2f}\\n C:{x[2]:.2f}\")\n"
      ]
    },
    {
      "cell_type": "markdown",
      "source": [
        "### Problema 2\n",
        "\n",
        "_(Fonte: THALENBERG, Bruna; PICCHETTI, Pedro. Modelagem matemática da economia e o modelo insumo-produto de Leontief. São Paulo: 2017.)_\n",
        "\n",
        "Assumiremos uma economia fictícia de seis setores, os quais apresentamos na tabela 2, e seus coeificientes são tais como descritos na tabela 3, e a demanda do setor externo, em milhões de dólares, é tal como descrita na tabela 4.\n",
        "\n",
        "Tabela 2 - Setores da economia fictícia\n",
        "\n",
        "Abreviação | Setor | Exemplos de produtos |\n",
        "-- | -- | -- |\n",
        "NF | Não-metal final  | Couro, móveis, alimentação |\n",
        "MF | Metal final | Maquinarias e eletrodomésticos|\n",
        "NB | Não-metal básico | Vidro, madeira, produtos agrícolas |\n",
        "E | Energia | Carvão, petróleo, eletricidade |\n",
        "S | Serviços | Serviços governamentais, transporte\n",
        "\n",
        "Tabela 3 - Matriz de coeficientes\n",
        "\n",
        "|  | NF | MF | MB | NB | E | S |\n",
        "| -- | -- | -- | -- | -- | -- | -- |\n",
        "NF | 0.17 | 0.004 | 0 | 0.029 | 0 | 0.008 |\n",
        "MF | 0.003 | 0.295 | 0.018 | 0.002 | 0.004 | 0.016 |\n",
        "MB | 0.025 | 0.173 | 0.46 | 0.007 | 0.011 | 0.007 \n",
        "NB | 0.346 | 0.037 | 0.021 | 0.403 | 0.011 | 0.048 |\n",
        "E | 0.007 | 0.001 | 0.039 | 0.025 | 0.358 | 0.025 |\n",
        "S | 0.12 | 0.074 | 0.104 | 0.123 | 0.173 | 0.234 |\n",
        "\n",
        "Tabela 4 - Demanda do setor externo, em milhões de dólares \n",
        "\n",
        "|  |  |\n",
        "| -- | -- |\n",
        "NF | 99640\n",
        "MF | 75548\n",
        "MB | 14444\n",
        "NB | 33501\n",
        "E | 23527\n",
        "S | 263985\n",
        " "
      ],
      "metadata": {
        "id": "hDKgm4SV2I-V"
      }
    },
    {
      "cell_type": "code",
      "source": [
        "# definir matriz insumo-produto\n",
        "a = np.array([[0.17, 0.004, 0.0, 0.029, 0.0, 0.008], \n",
        "[0.003, 0.295, 0.018, 0.002, 0.004, 0.016],\n",
        "[ 0.025, 0.173, 0.46, 0.007, 0.011, 0.007],\n",
        "[0.346, 0.037, 0.021, 0.403, 0.011, 0.048],\n",
        "[0.007, 0.001, 0.039, 0.025, 0.358, 0.025],\n",
        "[0.12, 0.074, 0.104, 0.123, 0.173, 0.234 ]])\n",
        "\n",
        "# definir vetor de demanda\n",
        "d = np.array([99640, 75548, 14444, 33501, 23527, 263985])\n",
        "\n",
        "# determinar o vetor de variáveis dependentes\n",
        "x = np.linalg.solve(np.identity(6)-a,d)\n",
        "\n",
        "# imprimir resutados\n",
        "print(f\"A quantidade de unidade monetária que cada setor deve produzir para atender a demanda de maneira mais eficiente é:\\nNF:{x[0]:.2f}\\n MF:{x[1]:.2f}\\n MB:{x[2]:.2f}\\n NB:{x[3]:.2f}\\n E:{x[4]:.2f}\\n S:{x[5]:.2f}\\n\")\n"
      ],
      "metadata": {
        "colab": {
          "base_uri": "https://localhost:8080/"
        },
        "id": "MM9wEC5m5T_5",
        "outputId": "4c0ae235-f400-4f63-964b-26b1fcd94846"
      },
      "execution_count": 4,
      "outputs": [
        {
          "output_type": "stream",
          "name": "stdout",
          "text": [
            "A quantidade de unidade monetária que cada setor deve produzir para atender a demanda de maneira mais eficiente é:\n",
            "NF:131016.45\n",
            " MF:120455.30\n",
            " MB:80671.20\n",
            " NB:178275.78\n",
            " E:66907.53\n",
            " S:431479.63\n",
            "\n"
          ]
        }
      ]
    },
    {
      "cell_type": "code",
      "source": [],
      "metadata": {
        "id": "n-3gnChO-T10"
      },
      "execution_count": null,
      "outputs": []
    }
  ]
}